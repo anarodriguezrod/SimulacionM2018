{
 "cells": [
  {
   "cell_type": "code",
   "execution_count": 6,
   "metadata": {
    "collapsed": true
   },
   "outputs": [],
   "source": [
    "import matplotlib.pyplot as plt\n",
    "%matplotlib inline\n",
    "import matplotlib as mpl\n",
    "label_size = 14\n",
    "mpl.rcParams['xtick.labelsize'] = label_size \n",
    "mpl.rcParams['ytick.labelsize'] = label_size \n",
    "import numpy as np"
   ]
  },
  {
   "cell_type": "code",
   "execution_count": 9,
   "metadata": {},
   "outputs": [],
   "source": [
    "A, B = .5,.1\n",
    "t = np.linspace(0,30)"
   ]
  },
  {
   "cell_type": "code",
   "execution_count": 16,
   "metadata": {},
   "outputs": [
    {
     "data": {
      "image/png": "[encoded data removed]",
      "text/plain": [
       "<matplotlib.figure.Figure at 0x1089d2358>"
      ]
     },
     "metadata": {},
     "output_type": "display_data"
    }
   ],
   "source": [
    "frecuencias = np.array([.1, .2, .5])   # Vector de diferentes frecuencias\n",
    "plt.figure(figsize = (7, 4))                # Ventana de gráfica con tamaño\n",
    "\n",
    "# Graficamos para cada frecuencia\n",
    "for w0 in frecuencias:\n",
    "    x = A*np.cos(w0*t)+B*np.sin(w0*t)\n",
    "    plt.scatter(t, x, s= 10, lw= 0, label = \"¢w_0=$%s\" %w0)\n",
    "plt.xlabel('$t$', fontsize = 16)            # Etiqueta eje x\n",
    "plt.ylabel('$x(t)$', fontsize = 16)         # Etiqueta eje y\n",
    "plt.title('Oscilaciones', fontsize = 16)    # Título de la gráfica\n",
    "plt.legend(bbox_to_anchor=(1.02,0.5), prop={\"size\":12})\n",
    "plt.show()"
   ]
  },
  {
   "cell_type": "code",
   "execution_count": 17,
   "metadata": {
    "collapsed": true
   },
   "outputs": [],
   "source": [
    "from ipywidgets import *"
   ]
  },
  {
   "cell_type": "code",
   "execution_count": 18,
   "metadata": {},
   "outputs": [
    {
     "data": {
      "application/vnd.jupyter.widget-view+json": {
       "model_id": "f710dce58ed3489c82ad851bca011d1a",
       "version_major": 2,
       "version_minor": 0
      },
      "text/plain": [
       "A Jupyter Widget"
      ]
     },
     "metadata": {},
     "output_type": "display_data"
    }
   ],
   "source": [
    "def masa_resorte(t = 0):\n",
    "    A, B, w0 = .5, .1, .5                            # Parámetros\n",
    "    x = A*np.cos(w0*t)+B*np.sin(w0*t)                # Función de posición\n",
    "    \n",
    "    fig = plt.figure()\n",
    "    ax = fig.add_subplot(1, 1, 1)\n",
    "    ax.plot(x, [0],  'ko', ms = 10)\n",
    "    ax.set_xlim(xmin = -0.6, xmax = .6)\n",
    "    ax.axvline(x=0, color = 'r')\n",
    "    ax.axhline(y=0, color = 'grey', lw = 1)\n",
    "    fig.canvas.draw()\n",
    "\n",
    "interact(masa_resorte, t = (0, 50,.01));"
   ]
  },
  {
   "cell_type": "code",
   "execution_count": 21,
   "metadata": {
    "collapsed": true
   },
   "outputs": [],
   "source": [
    "# Podemos definir una función que nos entregue theta dados los parámetros y el tiempo\n",
    "def theta_t(a, b, g, l, t):\n",
    "    omega_0 = np.sqrt(g/l)\n",
    "    return a * np.cos(omega_0 * t) + b * np.sin(omega_0 * t) "
   ]
  },
  {
   "cell_type": "code",
   "execution_count": 22,
   "metadata": {},
   "outputs": [
    {
     "data": {
      "application/vnd.jupyter.widget-view+json": {
       "model_id": "b436cdb68b0d42d49707b528f62ee274",
       "version_major": 2,
       "version_minor": 0
      },
      "text/plain": [
       "A Jupyter Widget"
      ]
     },
     "metadata": {},
     "output_type": "display_data"
    }
   ],
   "source": [
    "# Hacemos un gráfico interactivo del péndulo\n",
    "def pendulo_simple(t = 0):\n",
    "    fig = plt.figure(figsize = (5,5))\n",
    "    ax = fig.add_subplot(1, 1, 1)\n",
    "    x = 2 * np.sin(theta_t(.4, .6, 9.8, 2, t))\n",
    "    y =  - 2 * np.cos(theta_t(.4, .6, 9.8, 2, t))\n",
    "    ax.plot(x, y, 'ko', ms = 10)\n",
    "    ax.plot([0], [0], 'rD')\n",
    "    ax.plot([0, x ], [0, y], 'k-', lw = 1)\n",
    "    ax.set_xlim(xmin = -2.2, xmax = 2.2)\n",
    "    ax.set_ylim(ymin = -2.2, ymax = .2)\n",
    "    fig.canvas.draw()\n",
    "    \n",
    "interact_manual(pendulo_simple, t = (0, 10,.01));"
   ]
  },
  {
   "cell_type": "markdown",
   "metadata": {},
   "source": [
    "### Actividad"
   ]
  },
  {
   "cell_type": "code",
   "execution_count": 19,
   "metadata": {
    "collapsed": true
   },
   "outputs": [],
   "source": [
    "# Solución: \n",
    "def theta_t(theta_0,dtheta_0,g,l,t):\n",
    "    omega_0 = np.sqrt(g/l)\n",
    "    return theta_0 * np.cos(omega_0 * t) + dtheta_0/omega_0 * np.sin(omega_0 * t) "
   ]
  },
  {
   "cell_type": "code",
   "execution_count": 20,
   "metadata": {},
   "outputs": [
    {
     "data": {
      "application/vnd.jupyter.widget-view+json": {
       "model_id": "8945db3ff21f458abf15574ccbd90e71",
       "version_major": 2,
       "version_minor": 0
      },
      "text/plain": [
       "A Jupyter Widget"
      ]
     },
     "metadata": {},
     "output_type": "display_data"
    }
   ],
   "source": [
    "def pendulo_simple(t = 0):\n",
    "    fig = plt.figure(figsize = (5,5))\n",
    "    ax = fig.add_subplot(1, 1, 1)\n",
    "    x = 2 * np.sin(theta_t(0.1, 0, 9.8, 2, t))\n",
    "    y =  - 2 * np.cos(theta_t(0.1, 0, 9.8, 2, t))\n",
    "    ax.plot(x, y, 'ko', ms = 10)\n",
    "    ax.plot([0], [0], 'rD')\n",
    "    ax.plot([0, x ], [0, y], 'k-', lw = 1)\n",
    "    ax.set_xlim(xmin = -2.2, xmax = 2.2)\n",
    "    ax.set_ylim(ymin = -2.2, ymax = .2)\n",
    "    fig.canvas.draw()\n",
    "interact_manual(pendulo_simple, t = (0, 10,.01));"
   ]
  },
  {
   "cell_type": "markdown",
   "metadata": {},
   "source": [
    "## Sistema masa-resorte"
   ]
  },
  {
   "cell_type": "code",
   "execution_count": 23,
   "metadata": {
    "collapsed": true
   },
   "outputs": [],
   "source": [
    "k = 3  #constante elástica [N]/[m] \n",
    "m = 1 # [kg]\n",
    "omega_0 = np.sqrt(k/m)\n",
    "x_0 = .5 # Posicion inicial\n",
    "dx_0 = .1 #Velocidad inicial"
   ]
  },
  {
   "cell_type": "code",
   "execution_count": 24,
   "metadata": {
    "collapsed": true
   },
   "outputs": [],
   "source": [
    "t = np.linspace(0, 15, 300)# tiempo "
   ]
  },
  {
   "cell_type": "code",
   "execution_count": 27,
   "metadata": {
    "collapsed": true
   },
   "outputs": [],
   "source": [
    "x_t = x_0 *np.cos(omega_0 *t) + (dx_0/omega_0) * np.sin(omega_0 *t) # posicion\n",
    "dx_t = -omega_0 * x_0 * np.sin(omega_0 * t) + dx_0 * np.cos(omega_0 * t) # velocidad\n"
   ]
  },
  {
   "cell_type": "code",
   "execution_count": 28,
   "metadata": {},
   "outputs": [
    {
     "data": {
      "image/png": "[encoded data removed]",
      "text/plain": [
       "<matplotlib.figure.Figure at 0x11080a630>"
      ]
     },
     "metadata": {},
     "output_type": "display_data"
    }
   ],
   "source": [
    "plt.figure(figsize = (5, 5))\n",
    "plt.scatter(x_t, dx_t/omega_0, cmap = 'viridis', c = dx_t, s = 8, lw = 0)\n",
    "plt.xlabel('$x(t)$', fontsize = 18)\n",
    "plt.ylabel('$\\dot{x}(t)/\\omega_0$', fontsize = 18)\n",
    "plt.show()"
   ]
  },
  {
   "cell_type": "markdown",
   "metadata": {},
   "source": [
    "## Multiples condiciones"
   ]
  },
  {
   "cell_type": "code",
   "execution_count": 29,
   "metadata": {
    "collapsed": true
   },
   "outputs": [],
   "source": [
    "k = 3  #constante elástica [N]/[m] \n",
    "m = 1 # [kg]\n",
    "omega_0 = np.sqrt(k/m)"
   ]
  },
  {
   "cell_type": "code",
   "execution_count": 30,
   "metadata": {
    "collapsed": true
   },
   "outputs": [],
   "source": [
    "t = np.linspace(0, 50, 50)"
   ]
  },
  {
   "cell_type": "code",
   "execution_count": 31,
   "metadata": {
    "collapsed": true
   },
   "outputs": [],
   "source": [
    "x_0s = np.array([.7, .5, .25, .1])\n",
    "dx_0s = np.array([.2, .1, .05, .01])\n",
    "cmaps = np.array(['viridis', 'inferno', 'magma', 'plasma'])"
   ]
  },
  {
   "cell_type": "code",
   "execution_count": 32,
   "metadata": {},
   "outputs": [
    {
     "data": {
      "image/png": "[encoded data removed]",
      "text/plain": [
       "<matplotlib.figure.Figure at 0x110d56160>"
      ]
     },
     "metadata": {},
     "output_type": "display_data"
    }
   ],
   "source": [
    "plt.figure(figsize = (6, 6))\n",
    "for indx, x_0 in enumerate(x_0s):\n",
    "    x_t = x_0 *np.cos(omega_0 *t) + (dx_0s[indx]/omega_0) * np.sin(omega_0 *t)\n",
    "    dx_t = -omega_0 * x_0 * np.sin(omega_0 * t) + dx_0s[indx] * np.cos(omega_0 * t)\n",
    "    plt.scatter(x_t,  dx_t/omega_0, cmap = cmaps[indx], \n",
    "                c = dx_t, s = 10, \n",
    "                lw = 0)\n",
    "    plt.xlabel('$x(t)$', fontsize = 18)\n",
    "    plt.ylabel('$\\dot{x}(t)/\\omega_0$', fontsize = 18)\n",
    "    #plt.legend(loc='center left', bbox_to_anchor=(1.05, 0.5))"
   ]
  },
  {
   "cell_type": "markdown",
   "metadata": {},
   "source": [
    "## Actividad... considerar un pendulo simple en diferentes planetas, y graficar su espacio fase."
   ]
  },
  {
   "cell_type": "code",
   "execution_count": 39,
   "metadata": {},
   "outputs": [],
   "source": [
    "lgrave = np.array([2.94, 2.8, 8.9, 9.8, 3.7, 22.9, 9.1, 7.8, 11, .62, 1.6])\n",
    "labels = np.array([\"Sol\", \"Mercurio\", \"Venus\", \"Tierra\", \"Marte\" , \"Jupiter\", \"Saturno\", \"Urano\", \"Neptuno\", \"Pluton\", \"Luna\"])\n",
    "#Sol, Mercurio, venur, tierra, marte, jupiter, saturno, urano, neptuno, pluton, luna"
   ]
  },
  {
   "cell_type": "code",
   "execution_count": 49,
   "metadata": {
    "collapsed": true
   },
   "outputs": [],
   "source": [
    "def theta_t(theta_0, dtheta, g, l, t):\n",
    "    omega_0 = np.sqrt(g/l)\n",
    "    return theta * np.cos(omega_0 * t) + dtheta_0/omega_0 * np.sin(omega_0 * t) \n"
   ]
  },
  {
   "cell_type": "code",
   "execution_count": 57,
   "metadata": {
    "collapsed": true
   },
   "outputs": [],
   "source": [
    "theta_0 =.1\n",
    "dtheta_0=.2\n",
    "l=2"
   ]
  },
  {
   "cell_type": "code",
   "execution_count": 60,
   "metadata": {},
   "outputs": [
    {
     "ename": "NameError",
     "evalue": "name 'theta' is not defined",
     "output_type": "error",
     "traceback": [
      "\u001b[0;31m---------------------------------------------------------------------------\u001b[0m",
      "\u001b[0;31mNameError\u001b[0m                                 Traceback (most recent call last)",
      "\u001b[0;32m<ipython-input-60-22ab33e89a6d>\u001b[0m in \u001b[0;36m<module>\u001b[0;34m()\u001b[0m\n\u001b[1;32m      1\u001b[0m \u001b[0mplt\u001b[0m\u001b[0;34m.\u001b[0m\u001b[0mfigure\u001b[0m\u001b[0;34m(\u001b[0m\u001b[0mfigsize\u001b[0m \u001b[0;34m=\u001b[0m\u001b[0;34m(\u001b[0m\u001b[0;36m4\u001b[0m\u001b[0;34m,\u001b[0m\u001b[0;36m4\u001b[0m\u001b[0;34m)\u001b[0m\u001b[0;34m)\u001b[0m\u001b[0;34m\u001b[0m\u001b[0m\n\u001b[1;32m      2\u001b[0m \u001b[0;32mfor\u001b[0m \u001b[0mindx\u001b[0m\u001b[0;34m,\u001b[0m \u001b[0mg\u001b[0m \u001b[0;32min\u001b[0m \u001b[0menumerate\u001b[0m\u001b[0;34m(\u001b[0m\u001b[0mlgrave\u001b[0m\u001b[0;34m)\u001b[0m\u001b[0;34m:\u001b[0m\u001b[0;34m\u001b[0m\u001b[0m\n\u001b[0;32m----> 3\u001b[0;31m     \u001b[0mx\u001b[0m \u001b[0;34m=\u001b[0m \u001b[0;36m2\u001b[0m \u001b[0;34m*\u001b[0m \u001b[0mnp\u001b[0m\u001b[0;34m.\u001b[0m\u001b[0msin\u001b[0m\u001b[0;34m(\u001b[0m\u001b[0mtheta_t\u001b[0m\u001b[0;34m(\u001b[0m\u001b[0mtheta_0\u001b[0m\u001b[0;34m,\u001b[0m\u001b[0mdtheta_0\u001b[0m\u001b[0;34m,\u001b[0m\u001b[0mg\u001b[0m\u001b[0;34m,\u001b[0m\u001b[0ml\u001b[0m\u001b[0;34m,\u001b[0m\u001b[0mt\u001b[0m\u001b[0;34m)\u001b[0m\u001b[0;34m)\u001b[0m\u001b[0;34m\u001b[0m\u001b[0m\n\u001b[0m\u001b[1;32m      4\u001b[0m     \u001b[0momega_0\u001b[0m \u001b[0;34m=\u001b[0m \u001b[0mnp\u001b[0m\u001b[0;34m.\u001b[0m\u001b[0msqrt\u001b[0m\u001b[0;34m(\u001b[0m\u001b[0mg\u001b[0m\u001b[0;34m/\u001b[0m\u001b[0ml\u001b[0m\u001b[0;34m)\u001b[0m\u001b[0;34m\u001b[0m\u001b[0m\n\u001b[1;32m      5\u001b[0m     \u001b[0mdtheta_t\u001b[0m \u001b[0;34m=\u001b[0m \u001b[0;34m-\u001b[0m\u001b[0momega_0\u001b[0m \u001b[0;34m*\u001b[0m\u001b[0mtheta_0\u001b[0m\u001b[0;34m*\u001b[0m\u001b[0mnp\u001b[0m\u001b[0;34m.\u001b[0m\u001b[0msin\u001b[0m\u001b[0;34m(\u001b[0m\u001b[0momega_0\u001b[0m\u001b[0;34m*\u001b[0m\u001b[0mt\u001b[0m\u001b[0;34m)\u001b[0m\u001b[0;34m+\u001b[0m \u001b[0mdtheta_0\u001b[0m \u001b[0;34m*\u001b[0m \u001b[0mnp\u001b[0m\u001b[0;34m.\u001b[0m\u001b[0mcos\u001b[0m\u001b[0;34m(\u001b[0m\u001b[0momega_0\u001b[0m\u001b[0;34m*\u001b[0m\u001b[0mt\u001b[0m\u001b[0;34m)\u001b[0m\u001b[0;34m\u001b[0m\u001b[0m\n",
      "\u001b[0;32m<ipython-input-49-220f6041af9c>\u001b[0m in \u001b[0;36mtheta_t\u001b[0;34m(theta_0, dtheta, g, l, t)\u001b[0m\n\u001b[1;32m      1\u001b[0m \u001b[0;32mdef\u001b[0m \u001b[0mtheta_t\u001b[0m\u001b[0;34m(\u001b[0m\u001b[0mtheta_0\u001b[0m\u001b[0;34m,\u001b[0m \u001b[0mdtheta\u001b[0m\u001b[0;34m,\u001b[0m \u001b[0mg\u001b[0m\u001b[0;34m,\u001b[0m \u001b[0ml\u001b[0m\u001b[0;34m,\u001b[0m \u001b[0mt\u001b[0m\u001b[0;34m)\u001b[0m\u001b[0;34m:\u001b[0m\u001b[0;34m\u001b[0m\u001b[0m\n\u001b[1;32m      2\u001b[0m     \u001b[0momega_0\u001b[0m \u001b[0;34m=\u001b[0m \u001b[0mnp\u001b[0m\u001b[0;34m.\u001b[0m\u001b[0msqrt\u001b[0m\u001b[0;34m(\u001b[0m\u001b[0mg\u001b[0m\u001b[0;34m/\u001b[0m\u001b[0ml\u001b[0m\u001b[0;34m)\u001b[0m\u001b[0;34m\u001b[0m\u001b[0m\n\u001b[0;32m----> 3\u001b[0;31m     \u001b[0;32mreturn\u001b[0m \u001b[0mtheta\u001b[0m \u001b[0;34m*\u001b[0m \u001b[0mnp\u001b[0m\u001b[0;34m.\u001b[0m\u001b[0mcos\u001b[0m\u001b[0;34m(\u001b[0m\u001b[0momega_0\u001b[0m \u001b[0;34m*\u001b[0m \u001b[0mt\u001b[0m\u001b[0;34m)\u001b[0m \u001b[0;34m+\u001b[0m \u001b[0mdtheta_0\u001b[0m\u001b[0;34m/\u001b[0m\u001b[0momega_0\u001b[0m \u001b[0;34m*\u001b[0m \u001b[0mnp\u001b[0m\u001b[0;34m.\u001b[0m\u001b[0msin\u001b[0m\u001b[0;34m(\u001b[0m\u001b[0momega_0\u001b[0m \u001b[0;34m*\u001b[0m \u001b[0mt\u001b[0m\u001b[0;34m)\u001b[0m\u001b[0;34m\u001b[0m\u001b[0m\n\u001b[0m\u001b[1;32m      4\u001b[0m \u001b[0mtheta_0\u001b[0m \u001b[0;34m=\u001b[0m \u001b[0;36m.1\u001b[0m\u001b[0;34m\u001b[0m\u001b[0m\n\u001b[1;32m      5\u001b[0m \u001b[0mdtheta_0\u001b[0m\u001b[0;34m=\u001b[0m\u001b[0;36m.2\u001b[0m\u001b[0;34m\u001b[0m\u001b[0m\n",
      "\u001b[0;31mNameError\u001b[0m: name 'theta' is not defined"
     ]
    },
    {
     "data": {
      "text/plain": [
       "<matplotlib.figure.Figure at 0x1087e87f0>"
      ]
     },
     "metadata": {},
     "output_type": "display_data"
    }
   ],
   "source": [
    "plt.figure(figsize =(4,4))\n",
    "for indx, g in enumerate(lgrave):\n",
    "    x = 2 * np.sin(theta_t(theta_0,dtheta_0,g,l,t))\n",
    "    omega_0 = np.sqrt(g/l)\n",
    "    dtheta_t = -omega_0 *theta_0*np.sin(omega_0*t)+ dtheta_0 * np.cos(omega_0*t)\n",
    "    dx = 2 * np.cos(theta_t(theta_0,dtheta_0,g,l,t))*dtheta_t\n",
    "    plt.scatter(x, dx/omega_0, s=5, label= labels[indx])\n",
    "plt.legend(bbox_to_anchor=(1.05,.9), prop={\"size\": 10})\n",
    "plt.show()\n"
   ]
  },
  {
   "cell_type": "code",
   "execution_count": null,
   "metadata": {},
   "outputs": [],
   "source": []
  },
  {
   "cell_type": "code",
   "execution_count": null,
   "metadata": {
    "collapsed": true
   },
   "outputs": [],
   "source": [
    "vgrave = [2.94, 2.8, 8.9, 9.8, 3.7, 22.9, 9.1, 7.8, 11, .62, 1.6]\n",
    "#Sol, Mercurio, venur, tierra, marte, jupiter, saturno, urano, neptuno, pluton, luna"
   ]
  }
 ],
 "metadata": {
  "kernelspec": {
   "display_name": "Python 3",
   "language": "python",
   "name": "python3"
  },
  "language_info": {
   "codemirror_mode": {
    "name": "ipython",
    "version": 3
   },
   "file_extension": ".py",
   "mimetype": "text/x-python",
   "name": "python",
   "nbconvert_exporter": "python",
   "pygments_lexer": "ipython3",
   "version": "3.6.3"
  }
 },
 "nbformat": 4,
 "nbformat_minor": 2
}
